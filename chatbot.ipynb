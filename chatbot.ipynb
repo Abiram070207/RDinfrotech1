{
  "nbformat": 4,
  "nbformat_minor": 0,
  "metadata": {
    "colab": {
      "provenance": [],
      "authorship_tag": "ABX9TyMcX73i5hYnDIcIX5f7N95v",
      "include_colab_link": true
    },
    "kernelspec": {
      "name": "python3",
      "display_name": "Python 3"
    },
    "language_info": {
      "name": "python"
    }
  },
  "cells": [
    {
      "cell_type": "markdown",
      "metadata": {
        "id": "view-in-github",
        "colab_type": "text"
      },
      "source": [
        "<a href=\"https://colab.research.google.com/github/Abiram070207/RDinfrotech1/blob/main/chatbot.ipynb\" target=\"_parent\"><img src=\"https://colab.research.google.com/assets/colab-badge.svg\" alt=\"Open In Colab\"/></a>"
      ]
    },
    {
      "cell_type": "markdown",
      "source": [
        "# **TASK-1:**\n",
        "*CHATBOT WITH RULE-BASED\n",
        "RESPONSES*\n",
        "   * Build a simple chatbot that responds to user inputs based on\n",
        "predefined rules. Use if-else statements or pattern matching\n",
        "techniques to identify user queries and provide appropriate\n",
        "responses. This will give you a basic understanding of natural\n",
        "language processing and conversation flow.\n",
        "\n"
      ],
      "metadata": {
        "id": "CyEk0F_X2nIS"
      }
    },
    {
      "cell_type": "code",
      "execution_count": null,
      "metadata": {
        "colab": {
          "base_uri": "https://localhost:8080/"
        },
        "id": "SBA8IBv92ewq",
        "outputId": "a99c9fe1-14c0-4afe-98f3-39cc252f60fd"
      },
      "outputs": [
        {
          "output_type": "stream",
          "name": "stdout",
          "text": [
            "Bot: Hi! I'm a simple chatbot. Type 'exit' to quit.\n",
            "You: hello\n",
            "Bot: Hello! How can I help you today?\n",
            "You: What's the weather today?\n",
            "Bot: I can't check the weather right now, but it’s always a good idea to carry an umbrella!\n",
            "You: Oh! Thankyou!\n",
            "Bot: Anytime! I'm always happy to help you!\n",
            "You: bye\n",
            "Bot: Bye! It was nice talking to you.\n"
          ]
        }
      ],
      "source": [
        "import re\n",
        "\n",
        "def simple_chatbot():\n",
        "    print(\"Bot: Hi! I'm a simple chatbot. Type 'exit' to quit.\")\n",
        "\n",
        "    while True:\n",
        "        user_input = input(\"You: \").lower()\n",
        "\n",
        "        if user_input == \"exit\":\n",
        "            print(\"Bot: Goodbye! Have a great day.\")\n",
        "            break\n",
        "\n",
        "        # Pattern matching and keyword checks\n",
        "        elif re.search(r'\\bhello\\b|\\bhi\\b|\\bhey\\b', user_input):\n",
        "            print(\"Bot: Hello! How can I help you today?\")\n",
        "\n",
        "        elif re.search(r'\\bhow are you\\b', user_input):\n",
        "            print(\"Bot: I'm just a bunch of code, but thanks for asking!\")\n",
        "\n",
        "        elif re.search(r'\\bwhat is your name\\b|\\bwho are you\\b', user_input):\n",
        "            print(\"Bot: I'm a chatbot created to talk with you.\")\n",
        "\n",
        "        elif re.search(r'\\bhelp\\b|\\bassist\\b', user_input):\n",
        "            print(\"Bot: Sure, I can try to help! What do you need?\")\n",
        "\n",
        "        elif re.search(r'\\bthanks\\b|\\bthank\\b|\\bthankyou\\b', user_input):\n",
        "            print(\"Bot: Anytime! I'm always happy to help you!\")\n",
        "\n",
        "        elif re.search(r'\\bweather\\b', user_input):\n",
        "            print(\"Bot: I can't check the weather right now, but it’s always a good idea to carry an umbrella!\")\n",
        "\n",
        "        elif re.search(r'\\bbye\\b|\\bgoodbye\\b', user_input):\n",
        "            print(\"Bot: Bye! It was nice talking to you.\")\n",
        "            break\n",
        "\n",
        "        else:\n",
        "            print(\"Bot: I'm not sure how to respond to that. Can you rephrase?\")\n",
        "\n",
        "# Run the chatbot\n",
        "simple_chatbot()\n"
      ]
    }
  ]
}